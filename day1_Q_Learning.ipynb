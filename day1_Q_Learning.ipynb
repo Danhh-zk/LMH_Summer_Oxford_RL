{
  "cells": [
    {
      "cell_type": "markdown",
      "metadata": {
        "id": "4F0itjdKve8n"
      },
      "source": [
        "# Contents: Q-Learning"
      ]
    },
    {
      "cell_type": "markdown",
      "metadata": {
        "id": "PBgbMXUyvhy4"
      },
      "source": [
        "In this notebook, you are required to implement Q-Learning Reinforcement learning algorithm for Frozen Lake Environment.\n",
        "\n",
        "Write the code to define and train the agent.\n",
        "Make sure to include a visualization of the end result in form of a video."
      ]
    },
    {
      "cell_type": "markdown",
      "metadata": {
        "id": "5HacVpXyvw85"
      },
      "source": [
        "## Frozen Lake"
      ]
    },
    {
      "cell_type": "markdown",
      "metadata": {
        "id": "xbEBbSSQv3FF"
      },
      "source": [
        "Frozen lake is a toy text environment involves crossing a frozen lake from start to goal without falling into any holes by walking over the frozen lake. <br>\n",
        "\n",
        "We can also set the lake to be slippery so that the agent does not always move in the intended direction. \\but here, we will only look at the non-slippery case. But you are welcome to try the slippery one.<br>\n",
        "\n",
        "You can read more about the environment [here](https://gymnasium.farama.org/environments/toy_text/frozen_lake/).\n",
        "\n",
        "![Frozen Lake](https://gymnasium.farama.org/_images/frozen_lake.gif)\n"
      ]
    },
    {
      "cell_type": "markdown",
      "metadata": {
        "id": "kDmIdM-Tw-yx"
      },
      "source": [
        "## OpenAI Gym"
      ]
    },
    {
      "cell_type": "markdown",
      "metadata": {
        "id": "-9Npv8hsxWqC"
      },
      "source": [
        "[OpenAI Gym](https://www.gymlibrary.dev/) is a toolkit for developing and comparing reinforcement learning (RL) algorithms. It consists of a growing suite of environments (from simulated robots to Atari games), and a site for comparing and reproducing results. OpenAI Gym provides a diverse suite of environments that range from easy to difficult and involve many different kinds of data.\n",
        "\n",
        "Creating and Interacting with gym environments is very simple.\n",
        "\n",
        "```\n",
        "import gym\n",
        "env = gym.make(\"CartPole-v1\")\n",
        "observation, info = env.reset(seed=42)\n",
        "\n",
        "for _ in range(1000):\n",
        "    action = env.action_space.sample()\n",
        "    observation, reward, done, truncated, info = env.step(action)\n",
        "\n",
        "    if terminated or truncated:\n",
        "        observation, info = env.reset()\n",
        "env.close()\n",
        "```\n",
        "\n",
        "Following are the definitions of some common terminologies used.\n",
        "\n",
        "**Reset:** Resets the environment to an initial state and returns the initial observation. <br>\n",
        "**Step:** Run one timestep of the environment's dynamics.<br>\n",
        "**Observation:** The observed state of the environment.<br>\n",
        "**Action:** An action provided by the agent.<br>\n",
        "**Reward:** The amount of reward returned as a result of taking the action.<br>\n",
        "**Terminated:** Whether a terminal state (as defined under the MDP of the task) is reached.<br>\n",
        "**Truncated:** Whether a truncation condition outside the scope of the MDP is satisfied. Typically a timelimit, but could also be used to indicate agent physically going out of bounds.<br>\n",
        "**Info:** This contains auxiliary diagnostic information (helpful for debugging, learning, and logging).<br>\n",
        "**Action Space:** This attribute gives the format of valid actions. It is of datatype Space provided by Gym. For example, if the action space is of type Discrete and gives the value Discrete(2), this means there are two valid discrete actions: 0 & 1.<br>\n",
        "**Observation:** This attribute gives the format of valid observations. It is of datatype Space provided by Gym. For example, if the observation space is of type Box and the shape of the object is (4,), this denotes a valid observation will be an array of 4 numbers.<br>\n",
        "\n",
        "Note: Previously, `terminated` and `truncated` used to be merged under one variable `done`. <br>\n",
        "\n",
        "\n",
        "We will use OpenAI Gym for Frozen Lake environment."
      ]
    },
    {
      "cell_type": "code",
      "source": [
        "# action = env.action_space.sample() _ take to action l and r\n",
        "# Previously, terminated and truncated used to be merged under one variable done"
      ],
      "metadata": {
        "id": "LjaezG9UrBg1"
      },
      "execution_count": null,
      "outputs": []
    },
    {
      "cell_type": "markdown",
      "metadata": {
        "id": "mT_rDhxFmpaI"
      },
      "source": [
        "## Creating the environment"
      ]
    },
    {
      "cell_type": "code",
      "execution_count": 7,
      "metadata": {
        "id": "3PTAvIn9tRfP"
      },
      "outputs": [],
      "source": [
        "import numpy as np\n",
        "import gym\n",
        "import random"
      ]
    },
    {
      "cell_type": "code",
      "execution_count": 8,
      "metadata": {
        "id": "70UaXBCE_zvV"
      },
      "outputs": [],
      "source": [
        "# Create the environment\n",
        "env = gym.make(\"FrozenLake-v1\", is_slippery=False, new_step_api=True) # includes the next state, reward, and a boolean indicating whether the episode has ended.\n",
        "# This parameter controls the slipperiness of the ice in the environment"
      ]
    },
    {
      "cell_type": "markdown",
      "metadata": {
        "id": "DBiJ6RqCDcYR"
      },
      "source": [
        "### Solve here\n",
        "\n",
        "write the code to define and train the agent:"
      ]
    },
    {
      "cell_type": "code",
      "execution_count": 9,
      "metadata": {
        "colab": {
          "base_uri": "https://localhost:8080/"
        },
        "id": "1V1oNUQ8mpaJ",
        "outputId": "f612b9f7-df9f-4835-d35a-d0fc43ed578a"
      },
      "outputs": [
        {
          "output_type": "stream",
          "name": "stdout",
          "text": [
            "16\n"
          ]
        }
      ],
      "source": [
        "#This line retrieves the number of possible states in the \"FrozenLake-v1\" environment.\n",
        "state_size = env.observation_space.n\n",
        "print(state_size)"
      ]
    },
    {
      "cell_type": "code",
      "source": [
        "#This line retrieves the number of possible actions that the agent can take in the \"FrozenLake-v1\" environment.\n",
        "action_size = env.action_space.n\n",
        "print(action_size)"
      ],
      "metadata": {
        "colab": {
          "base_uri": "https://localhost:8080/"
        },
        "id": "MVa89sN6swt4",
        "outputId": "91e46936-6217-462f-94d5-cc5d78f22b16"
      },
      "execution_count": 10,
      "outputs": [
        {
          "output_type": "stream",
          "name": "stdout",
          "text": [
            "4\n"
          ]
        }
      ]
    },
    {
      "cell_type": "code",
      "source": [
        "qtable = np.zeros((state_size, action_size))\n",
        "print(qtable) # 16x4"
      ],
      "metadata": {
        "colab": {
          "base_uri": "https://localhost:8080/"
        },
        "id": "0cZC_kvbtACE",
        "outputId": "8d0185fd-7e9f-4e0a-a8f9-8bf30d17f109"
      },
      "execution_count": 11,
      "outputs": [
        {
          "output_type": "stream",
          "name": "stdout",
          "text": [
            "[[0. 0. 0. 0.]\n",
            " [0. 0. 0. 0.]\n",
            " [0. 0. 0. 0.]\n",
            " [0. 0. 0. 0.]\n",
            " [0. 0. 0. 0.]\n",
            " [0. 0. 0. 0.]\n",
            " [0. 0. 0. 0.]\n",
            " [0. 0. 0. 0.]\n",
            " [0. 0. 0. 0.]\n",
            " [0. 0. 0. 0.]\n",
            " [0. 0. 0. 0.]\n",
            " [0. 0. 0. 0.]\n",
            " [0. 0. 0. 0.]\n",
            " [0. 0. 0. 0.]\n",
            " [0. 0. 0. 0.]\n",
            " [0. 0. 0. 0.]]\n"
          ]
        }
      ]
    },
    {
      "cell_type": "code",
      "source": [
        "total_episodes = 20000 # the agent will be trained for 20,000 episodes.\n",
        "learning_rate = 0.1 #determines the step size the agent takes when updating its value function or policy.\n",
        "max_steps = 99 # max number of steps per episode. #This variable sets the maximum number of steps the agent can take in a single episode before the episode is terminated.\n",
        "gamma = 0.95 # discount factor # determines the importance of future rewards compared to immediate rewards.\n",
        "\n",
        "# Exploration parameters\n",
        "#Epsilon controls the balance between exploration (trying new actions) and exploitation (using the current best known actions) during the learning process.\n",
        "epsilon = 1.0 # Starting with a value of 1.0 means the agent will initially explore the environment randomly.\n",
        "\n",
        "max_epsilon = 1.0\n",
        "min_epsilon = 0.01\n",
        "decay_rate = 0.001 # the exploration rate will decrease  based on this decay rate."
      ],
      "metadata": {
        "colab": {
          "base_uri": "https://localhost:8080/"
        },
        "id": "n0lEQvyitS4F",
        "outputId": "0ae44598-580b-45ed-9e36-7e9115e9f0f5"
      },
      "execution_count": null,
      "outputs": [
        {
          "output_type": "stream",
          "name": "stderr",
          "text": [
            "/usr/local/lib/python3.10/dist-packages/ipykernel/ipkernel.py:283: DeprecationWarning: `should_run_async` will not call `transform_cell` automatically in the future. Please pass the result to `transformed_cell` argument and any exception that happen during thetransform in `preprocessing_exc_tuple` in IPython 7.17 and above.\n",
            "  and should_run_async(code)\n"
          ]
        }
      ]
    },
    {
      "cell_type": "code",
      "source": [
        "# training loop for the reinforcement learning agent in the \"FrozenLake-v1\" environment.\n",
        "\n",
        "rewards = []\n",
        "\n",
        "for episode in range(total_episodes):\n",
        "    state = env.reset() # start of each episode, the environment is reset, and the agent is placed in the initial state.\n",
        "    step = 0 # number of steps taken in the current episode.\n",
        "    done = False # indicates whether the episode has ended.\n",
        "    total_rewards = 0 # total reward obtained in the current episode.\n",
        "    for step in range(max_steps):\n",
        "      exp_exp_tradeoff = random.uniform(0, 1)\n",
        "      if exp_exp_tradeoff > epsilon:\n",
        "        action = np.argmax(qtable[state,:])\n",
        "        #random number is greater than the current value of epsilon, the agent will exploit the current knowledge in the Q-table and\n",
        "        #choose the action that maximizes the Q-value.\n",
        "      else:\n",
        "        action = env.action_space.sample()\n",
        "        #the agent will explore the environment by taking a random action.\n",
        "      new_state, reward, terminated, truncated, info = env.step(action)\n",
        "\n",
        "      done = terminated or truncated # terminated or truncated: The episode is considered done if the agent either reaches the goal (terminated) or\n",
        "      #reaches the maximum number of steps (truncated). < run to object  or leave to room <\n",
        "      qtable[state, action] = qtable[state, action] + learning_rate * (reward + gamma * np.max(qtable[new_state, :]) * (1-done) - qtable[state, action]) #The update combines the immediate reward, the discounted maximum future reward, and the current Q-value.\n",
        "      total_rewards += reward\n",
        "      state = new_state # The agent's current state is updated to the new state.\n",
        "\n",
        "      if done: #\n",
        "        break\n",
        "epsilon = min_epsilon + (max_epsilon - min_epsilon)*np.exp(-decay_rate*episode)\n",
        "rewards.append(total_rewards)\n",
        "\n",
        "\n",
        "qtable\n",
        "\n"
      ],
      "metadata": {
        "colab": {
          "base_uri": "https://localhost:8080/"
        },
        "id": "vUkaqmHWt-fW",
        "outputId": "266b7c22-5b95-4ec2-d60b-cbc1f33095cf"
      },
      "execution_count": null,
      "outputs": [
        {
          "output_type": "execute_result",
          "data": {
            "text/plain": [
              "array([[0.73509189, 0.77378094, 0.77378094, 0.73509189, 0.        ,\n",
              "        0.        , 0.        , 0.        , 0.        , 0.        ,\n",
              "        0.        , 0.        , 0.        , 0.        , 0.        ,\n",
              "        0.        ],\n",
              "       [0.73509189, 0.        , 0.81450625, 0.77378094, 0.        ,\n",
              "        0.        , 0.        , 0.        , 0.        , 0.        ,\n",
              "        0.        , 0.        , 0.        , 0.        , 0.        ,\n",
              "        0.        ],\n",
              "       [0.77378094, 0.857375  , 0.77378094, 0.81450625, 0.        ,\n",
              "        0.        , 0.        , 0.        , 0.        , 0.        ,\n",
              "        0.        , 0.        , 0.        , 0.        , 0.        ,\n",
              "        0.        ],\n",
              "       [0.81450625, 0.        , 0.77378094, 0.77378094, 0.        ,\n",
              "        0.        , 0.        , 0.        , 0.        , 0.        ,\n",
              "        0.        , 0.        , 0.        , 0.        , 0.        ,\n",
              "        0.        ],\n",
              "       [0.77378094, 0.81450625, 0.        , 0.73509189, 0.        ,\n",
              "        0.        , 0.        , 0.        , 0.        , 0.        ,\n",
              "        0.        , 0.        , 0.        , 0.        , 0.        ,\n",
              "        0.        ],\n",
              "       [0.        , 0.        , 0.        , 0.        , 0.        ,\n",
              "        0.        , 0.        , 0.        , 0.        , 0.        ,\n",
              "        0.        , 0.        , 0.        , 0.        , 0.        ,\n",
              "        0.        ],\n",
              "       [0.        , 0.9025    , 0.        , 0.81450625, 0.        ,\n",
              "        0.        , 0.        , 0.        , 0.        , 0.        ,\n",
              "        0.        , 0.        , 0.        , 0.        , 0.        ,\n",
              "        0.        ],\n",
              "       [0.        , 0.        , 0.        , 0.        , 0.        ,\n",
              "        0.        , 0.        , 0.        , 0.        , 0.        ,\n",
              "        0.        , 0.        , 0.        , 0.        , 0.        ,\n",
              "        0.        ],\n",
              "       [0.81450625, 0.        , 0.857375  , 0.77378094, 0.        ,\n",
              "        0.        , 0.        , 0.        , 0.        , 0.        ,\n",
              "        0.        , 0.        , 0.        , 0.        , 0.        ,\n",
              "        0.        ],\n",
              "       [0.81450625, 0.9025    , 0.9025    , 0.        , 0.        ,\n",
              "        0.        , 0.        , 0.        , 0.        , 0.        ,\n",
              "        0.        , 0.        , 0.        , 0.        , 0.        ,\n",
              "        0.        ],\n",
              "       [0.857375  , 0.95      , 0.        , 0.857375  , 0.        ,\n",
              "        0.        , 0.        , 0.        , 0.        , 0.        ,\n",
              "        0.        , 0.        , 0.        , 0.        , 0.        ,\n",
              "        0.        ],\n",
              "       [0.        , 0.        , 0.        , 0.        , 0.        ,\n",
              "        0.        , 0.        , 0.        , 0.        , 0.        ,\n",
              "        0.        , 0.        , 0.        , 0.        , 0.        ,\n",
              "        0.        ],\n",
              "       [0.        , 0.        , 0.        , 0.        , 0.        ,\n",
              "        0.        , 0.        , 0.        , 0.        , 0.        ,\n",
              "        0.        , 0.        , 0.        , 0.        , 0.        ,\n",
              "        0.        ],\n",
              "       [0.        , 0.9025    , 0.95      , 0.857375  , 0.        ,\n",
              "        0.        , 0.        , 0.        , 0.        , 0.        ,\n",
              "        0.        , 0.        , 0.        , 0.        , 0.        ,\n",
              "        0.        ],\n",
              "       [0.9025    , 0.95      , 1.        , 0.9025    , 0.        ,\n",
              "        0.        , 0.        , 0.        , 0.        , 0.        ,\n",
              "        0.        , 0.        , 0.        , 0.        , 0.        ,\n",
              "        0.        ],\n",
              "       [0.        , 0.        , 0.        , 0.        , 0.        ,\n",
              "        0.        , 0.        , 0.        , 0.        , 0.        ,\n",
              "        0.        , 0.        , 0.        , 0.        , 0.        ,\n",
              "        0.        ]])"
            ]
          },
          "metadata": {},
          "execution_count": 19
        }
      ]
    },
    {
      "cell_type": "markdown",
      "metadata": {
        "id": "4oDvqNXGE3-D"
      },
      "source": [
        "### Visualization\n",
        "\n",
        "You are provided with some functions which will help you visualize the results as a video.\n",
        "Feel free to wrie your own code for visualization if you prefer"
      ]
    },
    {
      "cell_type": "code",
      "execution_count": null,
      "metadata": {
        "id": "gT7EFCqfEAYH"
      },
      "outputs": [],
      "source": [
        "# For visualization\n",
        "from gym.wrappers.monitoring import video_recorder\n",
        "from IPython.display import HTML\n",
        "from IPython import display\n",
        "import glob\n",
        "import base64, io, os\n",
        "\n",
        "os.environ['SDL_VIDEODRIVER']='dummy'"
      ]
    },
    {
      "cell_type": "code",
      "execution_count": null,
      "metadata": {
        "id": "GmyN1qwqFAcF"
      },
      "outputs": [],
      "source": [
        "os.makedirs(\"video\", exist_ok=True)\n",
        "\n",
        "def show_video(env_name):\n",
        "    # Function to show a video in the notebook. Do not modify.\n",
        "    mp4list = glob.glob('video/*.mp4')\n",
        "    if len(mp4list) > 0:\n",
        "        mp4 = 'video/{}.mp4'.format(env_name)\n",
        "        video = io.open(mp4, 'r+b').read()\n",
        "        encoded = base64.b64encode(video)\n",
        "        display.display(HTML(data='''<video alt=\"test\" autoplay\n",
        "                loop controls style=\"height: 400px;\">\n",
        "                <source src=\"data:video/mp4;base64,{0}\" type=\"video/mp4\" />\n",
        "             </video>'''.format(encoded.decode('ascii'))))\n",
        "    else:\n",
        "        print(\"Could not find video\")\n",
        "\n",
        "def show_video_of_model(env_name, max_steps=100):\n",
        "    vid = video_recorder.VideoRecorder(env, path=\"video/{}.mp4\".format(env_name))\n",
        "    state = env.reset()\n",
        "    done = False\n",
        "    for t in range(max_steps):\n",
        "        vid.capture_frame()\n",
        "\n",
        "        # Write your code to choose an action here.\n",
        "        action = np.argmax(qtable[state,:])\n",
        "        # action = env.action_space.sample()\n",
        "        # print(action)\n",
        "\n",
        "\n",
        "        next_state, reward, terminated, truncated, info = env.step(action)\n",
        "        done = terminated or truncated\n",
        "        print(f\"state: {state}, action: {action}\",next_state, reward, done)\n",
        "        state = next_state\n",
        "        if done:\n",
        "            break\n",
        "    vid.close()\n",
        "    env.close()"
      ]
    },
    {
      "cell_type": "code",
      "execution_count": null,
      "metadata": {
        "colab": {
          "base_uri": "https://localhost:8080/"
        },
        "id": "EDnpeR1aFZNW",
        "outputId": "dfdb6ffe-33e3-4ea8-b1fb-d877f7633826"
      },
      "outputs": [
        {
          "output_type": "stream",
          "name": "stderr",
          "text": [
            "/usr/local/lib/python3.10/dist-packages/gym/wrappers/monitoring/video_recorder.py:78: DeprecationWarning: \u001b[33mWARN: Recording ability for environment FrozenLake-v1 initialized with `render_mode=None` is marked as deprecated and will be removed in the future.\u001b[0m\n",
            "  logger.deprecation(\n",
            "/usr/local/lib/python3.10/dist-packages/gym/wrappers/monitoring/video_recorder.py:101: DeprecationWarning: \u001b[33mWARN: <class 'gym.wrappers.monitoring.video_recorder.VideoRecorder'> is marked as deprecated and will be removed in the future.\u001b[0m\n",
            "  logger.deprecation(\n",
            "/usr/local/lib/python3.10/dist-packages/gym/core.py:43: DeprecationWarning: \u001b[33mWARN: The argument mode in render method is deprecated; use render_mode during environment initialization instead.\n",
            "See here for more information: https://www.gymlibrary.ml/content/api/\u001b[0m\n",
            "  deprecation(\n"
          ]
        },
        {
          "output_type": "stream",
          "name": "stdout",
          "text": [
            "state: 0, action: 1 4 0.0 False\n",
            "state: 4, action: 1 8 0.0 False\n",
            "state: 8, action: 2 9 0.0 False\n",
            "state: 9, action: 1 13 0.0 False\n",
            "state: 13, action: 2 14 0.0 False\n",
            "state: 14, action: 2 15 1.0 True\n"
          ]
        },
        {
          "output_type": "stream",
          "name": "stderr",
          "text": [
            "/usr/local/lib/python3.10/dist-packages/gym/core.py:43: DeprecationWarning: \u001b[33mWARN: The argument mode in render method is deprecated; use render_mode during environment initialization instead.\n",
            "See here for more information: https://www.gymlibrary.ml/content/api/\u001b[0m\n",
            "  deprecation(\n"
          ]
        }
      ],
      "source": [
        "show_video_of_model(\"FrozenLake-v1\")"
      ]
    },
    {
      "cell_type": "code",
      "execution_count": null,
      "metadata": {
        "colab": {
          "base_uri": "https://localhost:8080/",
          "height": 476
        },
        "id": "i1lgvG_TFdf3",
        "outputId": "b2f46789-cdbd-4ead-9956-fcd671afb6c7"
      },
      "outputs": [
        {
          "output_type": "stream",
          "name": "stderr",
          "text": [
            "/usr/local/lib/python3.10/dist-packages/ipykernel/ipkernel.py:283: DeprecationWarning: `should_run_async` will not call `transform_cell` automatically in the future. Please pass the result to `transformed_cell` argument and any exception that happen during thetransform in `preprocessing_exc_tuple` in IPython 7.17 and above.\n",
            "  and should_run_async(code)\n"
          ]
        },
        {
          "output_type": "display_data",
          "data": {
            "text/plain": [
              "<IPython.core.display.HTML object>"
            ],
            "text/html": [
              "<video alt=\"test\" autoplay\n",
              "                loop controls style=\"height: 400px;\">\n",
              "                <source src=\"data:video/mp4;base64,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\" type=\"video/mp4\" />\n",
              "             </video>"
            ]
          },
          "metadata": {}
        }
      ],
      "source": [
        "show_video(\"FrozenLake-v1\")"
      ]
    }
  ],
  "metadata": {
    "colab": {
      "provenance": []
    },
    "kernelspec": {
      "display_name": "Python 3",
      "name": "python3"
    },
    "language_info": {
      "name": "python"
    }
  },
  "nbformat": 4,
  "nbformat_minor": 0
}