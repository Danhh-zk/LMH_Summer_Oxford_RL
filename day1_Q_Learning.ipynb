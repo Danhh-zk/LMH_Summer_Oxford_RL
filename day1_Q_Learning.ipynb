{
  "cells": [
    {
      "cell_type": "markdown",
      "metadata": {
        "id": "view-in-github",
        "colab_type": "text"
      },
      "source": [
        "<a href=\"https://colab.research.google.com/github/Danhh-zk/LMH_Summer_Oxford_RL/blob/main/day1_Q_Learning.ipynb\" target=\"_parent\"><img src=\"https://colab.research.google.com/assets/colab-badge.svg\" alt=\"Open In Colab\"/></a>"
      ]
    },
    {
      "cell_type": "markdown",
      "metadata": {
        "id": "4F0itjdKve8n"
      },
      "source": [
        "# Contents: Q-Learning"
      ]
    },
    {
      "cell_type": "markdown",
      "metadata": {
        "id": "PBgbMXUyvhy4"
      },
      "source": [
        "In this notebook, you are required to implement Q-Learning Reinforcement learning algorithm for Frozen Lake Environment.\n",
        "\n",
        "Write the code to define and train the agent.\n",
        "Make sure to include a visualization of the end result in form of a video."
      ]
    },
    {
      "cell_type": "markdown",
      "metadata": {
        "id": "5HacVpXyvw85"
      },
      "source": [
        "## Frozen Lake"
      ]
    },
    {
      "cell_type": "markdown",
      "metadata": {
        "id": "xbEBbSSQv3FF"
      },
      "source": [
        "Frozen lake is a toy text environment involves crossing a frozen lake from start to goal without falling into any holes by walking over the frozen lake. <br>\n",
        "\n",
        "We can also set the lake to be slippery so that the agent does not always move in the intended direction. \\but here, we will only look at the non-slippery case. But you are welcome to try the slippery one.<br>\n",
        "\n",
        "You can read more about the environment [here](https://gymnasium.farama.org/environments/toy_text/frozen_lake/).\n",
        "\n",
        "![Frozen Lake](https://gymnasium.farama.org/_images/frozen_lake.gif)\n"
      ]
    },
    {
      "cell_type": "markdown",
      "metadata": {
        "id": "kDmIdM-Tw-yx"
      },
      "source": [
        "## OpenAI Gym"
      ]
    },
    {
      "cell_type": "markdown",
      "metadata": {
        "id": "-9Npv8hsxWqC"
      },
      "source": [
        "[OpenAI Gym](https://www.gymlibrary.dev/) is a toolkit for developing and comparing reinforcement learning (RL) algorithms. It consists of a growing suite of environments (from simulated robots to Atari games), and a site for comparing and reproducing results. OpenAI Gym provides a diverse suite of environments that range from easy to difficult and involve many different kinds of data.\n",
        "\n",
        "Creating and Interacting with gym environments is very simple.\n",
        "\n",
        "```\n",
        "import gym\n",
        "env = gym.make(\"CartPole-v1\")\n",
        "observation, info = env.reset(seed=42)\n",
        "\n",
        "for _ in range(1000):\n",
        "    action = env.action_space.sample()\n",
        "    observation, reward, done, truncated, info = env.step(action)\n",
        "\n",
        "    if terminated or truncated:\n",
        "        observation, info = env.reset()\n",
        "env.close()\n",
        "```\n",
        "\n",
        "Following are the definitions of some common terminologies used.\n",
        "\n",
        "**Reset:** Resets the environment to an initial state and returns the initial observation. <br>\n",
        "**Step:** Run one timestep of the environment's dynamics.<br>\n",
        "**Observation:** The observed state of the environment.<br>\n",
        "**Action:** An action provided by the agent.<br>\n",
        "**Reward:** The amount of reward returned as a result of taking the action.<br>\n",
        "**Terminated:** Whether a terminal state (as defined under the MDP of the task) is reached.<br>\n",
        "**Truncated:** Whether a truncation condition outside the scope of the MDP is satisfied. Typically a timelimit, but could also be used to indicate agent physically going out of bounds.<br>\n",
        "**Info:** This contains auxiliary diagnostic information (helpful for debugging, learning, and logging).<br>\n",
        "**Action Space:** This attribute gives the format of valid actions. It is of datatype Space provided by Gym. For example, if the action space is of type Discrete and gives the value Discrete(2), this means there are two valid discrete actions: 0 & 1.<br>\n",
        "**Observation:** This attribute gives the format of valid observations. It is of datatype Space provided by Gym. For example, if the observation space is of type Box and the shape of the object is (4,), this denotes a valid observation will be an array of 4 numbers.<br>\n",
        "\n",
        "Note: Previously, `terminated` and `truncated` used to be merged under one variable `done`. <br>\n",
        "\n",
        "\n",
        "We will use OpenAI Gym for Frozen Lake environment."
      ]
    },
    {
      "cell_type": "markdown",
      "metadata": {
        "id": "mT_rDhxFmpaI"
      },
      "source": [
        "## Creating the environment"
      ]
    },
    {
      "cell_type": "code",
      "source": [
        "# off policy : max expected to futuer reward + learn optmial policy\n",
        "# use q table\n",
        "# diffuclt with high D\n",
        "# find the optimal action-value function (Q-function)"
      ],
      "metadata": {
        "id": "-kMDpYkSSpV4"
      },
      "execution_count": null,
      "outputs": []
    },
    {
      "cell_type": "code",
      "execution_count": 7,
      "metadata": {
        "id": "3PTAvIn9tRfP"
      },
      "outputs": [],
      "source": [
        "import numpy as np\n",
        "import gym\n",
        "import random"
      ]
    },
    {
      "cell_type": "code",
      "execution_count": 9,
      "metadata": {
        "id": "70UaXBCE_zvV"
      },
      "outputs": [],
      "source": [
        "# Create the environment\n",
        "env = gym.make(\"FrozenLake-v1\", is_slippery=False, new_step_api=True)\n",
        "\n",
        "# is_slippery :\n",
        "# This parameter controls the slipperiness of the ice in the environment"
      ]
    },
    {
      "cell_type": "markdown",
      "metadata": {
        "id": "DBiJ6RqCDcYR"
      },
      "source": [
        "### Solve here\n",
        "\n",
        "write the code to define and train the agent:"
      ]
    },
    {
      "cell_type": "code",
      "execution_count": 10,
      "metadata": {
        "colab": {
          "base_uri": "https://localhost:8080/"
        },
        "id": "1V1oNUQ8mpaJ",
        "outputId": "ed56ca23-ab59-493e-b307-45a86c8007c4"
      },
      "outputs": [
        {
          "output_type": "stream",
          "name": "stdout",
          "text": [
            "16\n"
          ]
        }
      ],
      "source": [
        "#This line retrieves the number of possible states in the \"FrozenLake-v1\" environment.\n",
        "state_size = env.observation_space.n\n",
        "print(state_size)"
      ]
    },
    {
      "cell_type": "code",
      "source": [
        "#This line retrieves the number of possible actions that the agent can take in the \"FrozenLake-v1\" environment.\n",
        "action_size = env.action_space.n\n",
        "print(action_size)"
      ],
      "metadata": {
        "colab": {
          "base_uri": "https://localhost:8080/"
        },
        "id": "MVa89sN6swt4",
        "outputId": "7a6d9a73-2b75-458d-e8d0-fc5f5ffed195"
      },
      "execution_count": 11,
      "outputs": [
        {
          "output_type": "stream",
          "name": "stdout",
          "text": [
            "4\n"
          ]
        }
      ]
    },
    {
      "cell_type": "code",
      "source": [
        "qtable = np.zeros((state_size, action_size))\n",
        "print(qtable) # 16x4"
      ],
      "metadata": {
        "colab": {
          "base_uri": "https://localhost:8080/"
        },
        "id": "0cZC_kvbtACE",
        "outputId": "d856f3c0-bf88-4df1-c095-298fb0f07df2"
      },
      "execution_count": 12,
      "outputs": [
        {
          "output_type": "stream",
          "name": "stdout",
          "text": [
            "[[0. 0. 0. 0.]\n",
            " [0. 0. 0. 0.]\n",
            " [0. 0. 0. 0.]\n",
            " [0. 0. 0. 0.]\n",
            " [0. 0. 0. 0.]\n",
            " [0. 0. 0. 0.]\n",
            " [0. 0. 0. 0.]\n",
            " [0. 0. 0. 0.]\n",
            " [0. 0. 0. 0.]\n",
            " [0. 0. 0. 0.]\n",
            " [0. 0. 0. 0.]\n",
            " [0. 0. 0. 0.]\n",
            " [0. 0. 0. 0.]\n",
            " [0. 0. 0. 0.]\n",
            " [0. 0. 0. 0.]\n",
            " [0. 0. 0. 0.]]\n"
          ]
        }
      ]
    },
    {
      "cell_type": "code",
      "source": [
        "total_episodes = 20000 # agent trained\n",
        "learning_rate = 0.1 #  step size the agent takes when updating its value function\n",
        "max_steps = 99 #  agent can take in a single episode before the episode is terminated.\n",
        "gamma = 0.95 # discount factor # determines the importance of future rewards\n",
        "\n",
        "# Exploration parameters\n",
        "#Epsilon controls the balance between exploration (trying new actions) and exploitation (using the current best known actions)\n",
        "epsilon = 1.0 # Starting with a value of 1.0 means the agent will initially explore the environment randomly.\n",
        "\n",
        "max_epsilon = 1.0\n",
        "min_epsilon = 0.01\n",
        "decay_rate = 0.001 # the exploration rate will decrease  based on this decay rate."
      ],
      "metadata": {
        "id": "n0lEQvyitS4F"
      },
      "execution_count": 13,
      "outputs": []
    },
    {
      "cell_type": "code",
      "source": [
        "# This code is necessary for the Q-Learning algorithm to work effectively and converge to the optimal policy.\n",
        "\n"
      ],
      "metadata": {
        "id": "BhsIAIOobn6v"
      },
      "execution_count": null,
      "outputs": []
    },
    {
      "cell_type": "code",
      "source": [
        "# training loop for the reinforcement learning agent in the \"FrozenLake-v1\" environment.\n",
        "\n",
        "rewards = []\n",
        "\n",
        "for episode in range(total_episodes):\n",
        "    state = env.reset() # start of each episode, the environment is reset, and the agent is placed in the initial state.\n",
        "    step = 0 # number of steps taken in the current episode.\n",
        "    done = False # indicates whether the episode has ended.\n",
        "    total_rewards = 0 # total reward obtained in the current episode.\n",
        "    for step in range(max_steps):\n",
        "      exp_exp_tradeoff = random.uniform(0, 1)\n",
        "      if exp_exp_tradeoff > epsilon:\n",
        "        action = np.argmax(qtable[state,:])\n",
        "        #random number is greater than the current value of epsilon, the agent will exploit the current knowledge in the Q-table and\n",
        "        #choose the action that maximizes the Q-value.\n",
        "\n",
        "      else:\n",
        "        action = env.action_space.sample()\n",
        "        #the agent will explore the environment by taking a random action.\n",
        "\n",
        "\n",
        "      new_state, reward, terminated, truncated, info = env.step(action)\n",
        "\n",
        "      done = terminated or truncated # The episode is considered done if the agent either reaches the goal (terminated) or\n",
        "      #reaches the maximum number of steps (truncated). < run to object  or leave to room <\n",
        "\n",
        "      # updates the Q-table using the Q-Learning\n",
        "      # (1-done) episode has ended (either the agent has reached the goal or the maximum number of steps has been reached).\n",
        "      qtable[state, action] = qtable[state, action] + learning_rate * (reward + gamma * np.max(qtable[new_state, :]) * (1-done) - qtable[state, action]) #The update combines the immediate reward, the discounted maximum future reward, and the current Q-value.\n",
        "      total_rewards += reward # used to monitor the agent's performance during training.\n",
        "      state = new_state # The agent's current state is updated to the new state.\n",
        "\n",
        "      if done: #\n",
        "        break\n",
        "#explotion dace raty\n",
        "# decrease the epsilon value over the course of the training process, shifting the focus from exploration to exploitation.\n",
        "# episode number increases, the epsilon value will decrease exponentially\n",
        "# This is essential for the Q-Learning algorithm to converge to the optimal policy.\n",
        "\n",
        "epsilon = min_epsilon + (max_epsilon - min_epsilon)*np.exp(-decay_rate*episode)\n",
        "rewards.append(total_rewards)\n",
        "\n",
        "\n",
        "qtable\n",
        "\n"
      ],
      "metadata": {
        "colab": {
          "base_uri": "https://localhost:8080/"
        },
        "id": "vUkaqmHWt-fW",
        "outputId": "1aa92542-b905-4254-aa10-71cd7f43e873"
      },
      "execution_count": 16,
      "outputs": [
        {
          "output_type": "execute_result",
          "data": {
            "text/plain": [
              "array([[0.73509189, 0.77378094, 0.77378094, 0.73509189],\n",
              "       [0.73509189, 0.        , 0.81450625, 0.77378094],\n",
              "       [0.77378094, 0.857375  , 0.77378094, 0.81450625],\n",
              "       [0.81450625, 0.        , 0.77378094, 0.77378094],\n",
              "       [0.77378094, 0.81450625, 0.        , 0.73509189],\n",
              "       [0.        , 0.        , 0.        , 0.        ],\n",
              "       [0.        , 0.9025    , 0.        , 0.81450625],\n",
              "       [0.        , 0.        , 0.        , 0.        ],\n",
              "       [0.81450625, 0.        , 0.857375  , 0.77378094],\n",
              "       [0.81450625, 0.9025    , 0.9025    , 0.        ],\n",
              "       [0.857375  , 0.95      , 0.        , 0.857375  ],\n",
              "       [0.        , 0.        , 0.        , 0.        ],\n",
              "       [0.        , 0.        , 0.        , 0.        ],\n",
              "       [0.        , 0.9025    , 0.95      , 0.857375  ],\n",
              "       [0.9025    , 0.95      , 1.        , 0.9025    ],\n",
              "       [0.        , 0.        , 0.        , 0.        ]])"
            ]
          },
          "metadata": {},
          "execution_count": 16
        }
      ]
    },
    {
      "cell_type": "markdown",
      "metadata": {
        "id": "4oDvqNXGE3-D"
      },
      "source": [
        "### Visualization\n",
        "\n",
        "You are provided with some functions which will help you visualize the results as a video.\n",
        "Feel free to wrie your own code for visualization if you prefer"
      ]
    },
    {
      "cell_type": "code",
      "execution_count": 17,
      "metadata": {
        "id": "gT7EFCqfEAYH"
      },
      "outputs": [],
      "source": [
        "# For visualization\n",
        "from gym.wrappers.monitoring import video_recorder\n",
        "from IPython.display import HTML\n",
        "from IPython import display\n",
        "import glob\n",
        "import base64, io, os\n",
        "\n",
        "os.environ['SDL_VIDEODRIVER']='dummy'"
      ]
    },
    {
      "cell_type": "code",
      "execution_count": 18,
      "metadata": {
        "id": "GmyN1qwqFAcF"
      },
      "outputs": [],
      "source": [
        "os.makedirs(\"video\", exist_ok=True)\n",
        "\n",
        "def show_video(env_name):\n",
        "    # Function to show a video in the notebook. Do not modify.\n",
        "    mp4list = glob.glob('video/*.mp4')\n",
        "    if len(mp4list) > 0:\n",
        "        mp4 = 'video/{}.mp4'.format(env_name)\n",
        "        video = io.open(mp4, 'r+b').read()\n",
        "        encoded = base64.b64encode(video)\n",
        "        display.display(HTML(data='''<video alt=\"test\" autoplay\n",
        "                loop controls style=\"height: 400px;\">\n",
        "                <source src=\"data:video/mp4;base64,{0}\" type=\"video/mp4\" />\n",
        "             </video>'''.format(encoded.decode('ascii'))))\n",
        "    else:\n",
        "        print(\"Could not find video\")\n",
        "\n",
        "def show_video_of_model(env_name, max_steps=100):\n",
        "    vid = video_recorder.VideoRecorder(env, path=\"video/{}.mp4\".format(env_name))\n",
        "    state = env.reset()\n",
        "    done = False\n",
        "    for t in range(max_steps):\n",
        "        vid.capture_frame()\n",
        "\n",
        "        # Write your code to choose an action here.\n",
        "        action = np.argmax(qtable[state,:])\n",
        "        # action = env.action_space.sample()\n",
        "        # print(action)\n",
        "\n",
        "\n",
        "        next_state, reward, terminated, truncated, info = env.step(action)\n",
        "        done = terminated or truncated\n",
        "        print(f\"state: {state}, action: {action}\",next_state, reward, done)\n",
        "        state = next_state\n",
        "        if done:\n",
        "            break\n",
        "    vid.close()\n",
        "    env.close()"
      ]
    },
    {
      "cell_type": "code",
      "execution_count": 19,
      "metadata": {
        "colab": {
          "base_uri": "https://localhost:8080/"
        },
        "id": "EDnpeR1aFZNW",
        "outputId": "431a7607-c136-494d-ce8e-de6814239ab3"
      },
      "outputs": [
        {
          "output_type": "stream",
          "name": "stderr",
          "text": [
            "/usr/local/lib/python3.10/dist-packages/gym/wrappers/monitoring/video_recorder.py:78: DeprecationWarning: \u001b[33mWARN: Recording ability for environment FrozenLake-v1 initialized with `render_mode=None` is marked as deprecated and will be removed in the future.\u001b[0m\n",
            "  logger.deprecation(\n",
            "/usr/local/lib/python3.10/dist-packages/gym/wrappers/monitoring/video_recorder.py:101: DeprecationWarning: \u001b[33mWARN: <class 'gym.wrappers.monitoring.video_recorder.VideoRecorder'> is marked as deprecated and will be removed in the future.\u001b[0m\n",
            "  logger.deprecation(\n",
            "/usr/local/lib/python3.10/dist-packages/gym/core.py:43: DeprecationWarning: \u001b[33mWARN: The argument mode in render method is deprecated; use render_mode during environment initialization instead.\n",
            "See here for more information: https://www.gymlibrary.ml/content/api/\u001b[0m\n",
            "  deprecation(\n"
          ]
        },
        {
          "output_type": "stream",
          "name": "stdout",
          "text": [
            "state: 0, action: 2 1 0.0 False\n",
            "state: 1, action: 2 2 0.0 False\n",
            "state: 2, action: 1 6 0.0 False\n",
            "state: 6, action: 1 10 0.0 False\n",
            "state: 10, action: 1 14 0.0 False\n",
            "state: 14, action: 2 15 1.0 True\n"
          ]
        },
        {
          "output_type": "stream",
          "name": "stderr",
          "text": [
            "/usr/local/lib/python3.10/dist-packages/gym/core.py:43: DeprecationWarning: \u001b[33mWARN: The argument mode in render method is deprecated; use render_mode during environment initialization instead.\n",
            "See here for more information: https://www.gymlibrary.ml/content/api/\u001b[0m\n",
            "  deprecation(\n"
          ]
        }
      ],
      "source": [
        "show_video_of_model(\"FrozenLake-v1\")"
      ]
    },
    {
      "cell_type": "code",
      "execution_count": 20,
      "metadata": {
        "colab": {
          "base_uri": "https://localhost:8080/",
          "height": 421
        },
        "id": "i1lgvG_TFdf3",
        "outputId": "7774fbd9-c8c2-4e0c-de6a-dd5ec4cc06dd"
      },
      "outputs": [
        {
          "output_type": "display_data",
          "data": {
            "text/plain": [
              "<IPython.core.display.HTML object>"
            ],
            "text/html": [
              "<video alt=\"test\" autoplay\n",
              "                loop controls style=\"height: 400px;\">\n",
              "                <source src=\"data:video/mp4;base64,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\" type=\"video/mp4\" />\n",
              "             </video>"
            ]
          },
          "metadata": {}
        }
      ],
      "source": [
        "show_video(\"FrozenLake-v1\")"
      ]
    }
  ],
  "metadata": {
    "colab": {
      "provenance": [],
      "include_colab_link": true
    },
    "kernelspec": {
      "display_name": "Python 3",
      "name": "python3"
    },
    "language_info": {
      "name": "python"
    }
  },
  "nbformat": 4,
  "nbformat_minor": 0
}